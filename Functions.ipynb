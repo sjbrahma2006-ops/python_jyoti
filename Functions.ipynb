{
 "cells": [
  {
   "cell_type": "code",
   "execution_count": 15,
   "metadata": {},
   "outputs": [
    {
     "name": "stdout",
     "output_type": "stream",
     "text": [
      "5 is odd\n",
      "None\n",
      "[1, 2, 7]\n",
      "B1 is best\n",
      "B1 is best\n"
     ]
    }
   ],
   "source": [
    "# fUNCTIONS USER_DEFINED & INBUILT\n",
    "# def keyword ius used to create an user defined function\n",
    "def is_even():\n",
    "    \"B1 isbest\"\n",
    "    \"2025-09-27\"#doc string proffesional approach to tell what ur method is doing who made this on which date it was made\n",
    "    if(5%2==0):\n",
    "        print(f\"{5} is even\")\n",
    "    else:\n",
    "        print(f\"{5} is odd\")\n",
    "    \n",
    "(is_even()) \n",
    "l=[1,2]\n",
    "print(l.append(7))\n",
    "print(l)\n",
    "print(is_even.__doc__)\n",
    "print(is_even.__doc__)\n",
    "\n"
   ]
  },
  {
   "cell_type": "code",
   "execution_count": 17,
   "metadata": {},
   "outputs": [
    {
     "name": "stdout",
     "output_type": "stream",
     "text": [
      "54\n",
      "10 is harshad number\n",
      "12 is harshad number\n",
      "18 is harshad number\n",
      "20 is harshad number\n",
      "21 is harshad number\n",
      "24 is harshad number\n",
      "27 is harshad number\n",
      "30 is harshad number\n",
      "36 is harshad number\n",
      "40 is harshad number\n",
      "42 is harshad number\n",
      "45 is harshad number\n",
      "48 is harshad number\n",
      "50 is harshad number\n",
      "54 is harshad number\n",
      "60 is harshad number\n",
      "63 is harshad number\n",
      "70 is harshad number\n",
      "72 is harshad number\n",
      "80 is harshad number\n",
      "81 is harshad number\n",
      "84 is harshad number\n",
      "90 is harshad number\n",
      "100 is harshad number\n",
      "logic: 18 1+8=9 18%9 is 0 so it is a harshad number number % sum of its digit is 0 so it is harshad number\n"
     ]
    }
   ],
   "source": [
    "def reverse_number(num):\n",
    "    \"Reversing a given number num\"\n",
    "    rev=0\n",
    "    n=num\n",
    "    while(n>0):\n",
    "        digit=n%10\n",
    "        rev=(rev*10)+digit\n",
    "        n=n//10\n",
    "    return rev\n",
    "\n",
    "print(reverse_number(45))\n",
    "\n",
    "def is_Harshad_number(n):\n",
    "    \"logic: 18 1+8=9 18%9 is 0 so it is a harshad number number % sum of its digit is 0 so it is harshad number\"\n",
    "    sum=0\n",
    "    temp=n\n",
    "    while(temp>0):\n",
    "        digit=temp%10\n",
    "        sum=sum+digit\n",
    "        temp=temp//10\n",
    "    if(n%sum==0):\n",
    "        return True\n",
    "    else:\n",
    "        return False\n",
    "        \n",
    "for i in range(10,101):\n",
    "    if(is_Harshad_number(i)):\n",
    "        print(f\"{i} is harshad number\")\n",
    "        \n",
    "      \n",
    " #print Doc string     \n",
    "print(is_Harshad_number.__doc__)   "
   ]
  },
  {
   "cell_type": "code",
   "execution_count": 21,
   "metadata": {},
   "outputs": [
    {
     "name": "stdout",
     "output_type": "stream",
     "text": [
      "0.6\n"
     ]
    }
   ],
   "source": [
    "def cal(a,b):\n",
    "    c=a+b\n",
    "    d=a/b\n",
    "    m=a*b\n",
    "    return c,d,m\n",
    "add,div,mul=cal(3,5)\n",
    "print(div)\n"
   ]
  },
  {
   "cell_type": "code",
   "execution_count": 30,
   "metadata": {},
   "outputs": [
    {
     "name": "stdout",
     "output_type": "stream",
     "text": [
      "0\n",
      "{'a': 1, 'b': 2, 'c': 3, 'd': 4, 'e': 5}\n",
      "<class 'dict'>\n",
      "15\n",
      "9\n",
      "8\n",
      "1\n"
     ]
    }
   ],
   "source": [
    "# positional and keyword parameter\n",
    "\n",
    "def pow(x,y=1):\n",
    "    #default parameter must follow positional parameter if no value is given it will take derfault value\n",
    "    return x**y\n",
    "def power(var1,**var2):#var2 takes multiple arguments\n",
    "    print(var1)\n",
    "    print(var2)\n",
    "    print(type(var2))\n",
    "    sum=var1\n",
    "    for i in var2.values():\n",
    "        sum+=i\n",
    "    return sum\n",
    "print(power(0,a=1,b=2,c=3,d=4,e=5))\n",
    "print(pow(y=2,x=3))#keyword parameters\n",
    "print(pow(2,3))#positional parameters\n",
    "print(pow(1))#y will take default value\n",
    "    \n",
    "    \n"
   ]
  },
  {
   "cell_type": "code",
   "execution_count": 59,
   "metadata": {
    "scrolled": true
   },
   "outputs": [
    {
     "name": "stdout",
     "output_type": "stream",
     "text": [
      "9 g\n",
      "9 f\n",
      "9 g\n",
      "hello\n",
      "hi\n",
      "100\n"
     ]
    }
   ],
   "source": [
    "#scope of variable \n",
    "def f(y):\n",
    "    global x\n",
    "    #x=x+1\n",
    "    print(x,\"g\")\n",
    "    print(x,\"f\")\n",
    "  \n",
    "x=9\n",
    "f(x)\n",
    "print(x,'g')\n",
    "def xc(): #Nested functions  can only be called from the function inside which it is declared\n",
    "    print(\"hello\")\n",
    "    \n",
    "    \n",
    "    def sz():\n",
    "        print(\"hi\")\n",
    "        def xyz():\n",
    "             print(i)\n",
    "        xyz()#xyz called inside     \n",
    "        \n",
    "    sz()#sz is called inside xc\n",
    "xc()    \n"
   ]
  },
  {
   "cell_type": "code",
   "execution_count": 74,
   "metadata": {},
   "outputs": [
    {
     "name": "stdout",
     "output_type": "stream",
     "text": [
      "Enter time 12\n",
      "am or pm am\n",
      "Enter time gap 0\n",
      "12 am\n"
     ]
    }
   ],
   "source": [
    "def time_space(time,ap,gap):\n",
    "    time_diff=gap%24\n",
    "    while(time_diff>0):\n",
    "        if(time==12):\n",
    "            if(ap==\"am\"):\n",
    "                ap=\"pm\"\n",
    "            else:\n",
    "                ap=\"am\"\n",
    "        if(time==12):\n",
    "            time=1\n",
    "        else:    \n",
    "            time+=1\n",
    "        time_diff-=1\n",
    "    print(time,ap)\n",
    "t=int(input('Enter time '))  \n",
    "a=input(\"am or pm \")\n",
    "g=int(input(\"Enter time gap \"))\n",
    "time_space(t,a,g)\n",
    "\n",
    "                 \n",
    "    "
   ]
  },
  {
   "cell_type": "code",
   "execution_count": null,
   "metadata": {},
   "outputs": [],
   "source": []
  }
 ],
 "metadata": {
  "kernelspec": {
   "display_name": "Python 3",
   "language": "python",
   "name": "python3"
  },
  "language_info": {
   "codemirror_mode": {
    "name": "ipython",
    "version": 3
   },
   "file_extension": ".py",
   "mimetype": "text/x-python",
   "name": "python",
   "nbconvert_exporter": "python",
   "pygments_lexer": "ipython3",
   "version": "3.8.5"
  }
 },
 "nbformat": 4,
 "nbformat_minor": 4
}
